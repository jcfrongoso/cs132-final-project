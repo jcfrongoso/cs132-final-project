{
 "cells": [
  {
   "cell_type": "markdown",
   "metadata": {},
   "source": [
    "## Part 0. Dataset Preparation"
   ]
  },
  {
   "cell_type": "markdown",
   "metadata": {},
   "source": [
    "### Data Collection"
   ]
  },
  {
   "cell_type": "markdown",
   "metadata": {},
   "source": [
    "This part of the methodology involves dataset preparation. First of all, the dataset was downloaded from PSA OpenStat's Open Source website. From the main page, we navigate towards `Agriculture, Forestry, and Fisheries` > `Fisheries`. We then scroll downwards to find [Aquaculture: Volume of Production by Species, Geolocation, Year and Quarter](https://openstat.psa.gov.ph/PXWeb/pxweb/en/DB/DB__2E__FS/0092E4GVAP1.px/?rxid=bdf9d8da-96f1-4100-ae09-18cb3eaeb313t) and [Aquaculture: Value of Production by Species, Geolocation, Year and Quarter](https://openstat.psa.gov.ph/PXWeb/pxweb/en/DB/DB__2E__FS/0102E4GCAP1.px/?rxid=bdf9d8da-96f1-4100-ae09-18cb3eaeb313t). To extract the necessary information for each table, the group performed the following steps:\n",
    "1. Under `Species`, we select all by clicking the check button.\n",
    "2. Under `Geolocation`, type and enter `Region` to select all region as the values for our `Geolocation` feature.\n",
    "3. Under `Year`, we only select those from 2020 to 2024.\n",
    "4. Under `Quarter`, we only choose to include Quarter 1 to Quarter 4.\n",
    "5. Download the table in `csv` format."
   ]
  },
  {
   "cell_type": "markdown",
   "metadata": {},
   "source": [
    "Now that we have downloaded two datasets, we now proceed to preprocessing our dataset to transform it into something workable for our analysis."
   ]
  },
  {
   "cell_type": "markdown",
   "metadata": {},
   "source": [
    "### Data Preprocessing"
   ]
  },
  {
   "cell_type": "markdown",
   "metadata": {},
   "source": [
    "We first import all necessary libraries and check the preliminary contents of each dataset. Note though that both datasets contains the same set of columns, as indicated from the options we've included from the data collection part which means that we can redo the same set of steps that will be done on one dataset to the other."
   ]
  },
  {
   "cell_type": "code",
   "execution_count": 1,
   "metadata": {},
   "outputs": [],
   "source": [
    "import os\n",
    "import pandas as pd\n",
    "import numpy as np\n",
    "from matplotlib import pyplot as plt"
   ]
  },
  {
   "cell_type": "code",
   "execution_count": 2,
   "metadata": {},
   "outputs": [],
   "source": [
    "aquaculture_value = './Dataset/Aquaculture Value of Production by Species, Geolocation, Year and Quarter.csv'\n",
    "aquaculture_volume = './Dataset/Aquaculture Volume of Production by Species, Geolocation, Year and Quarter.csv'\n",
    "\n",
    "value_df = pd.read_csv(aquaculture_value, skiprows=2)\n",
    "volume_df = pd.read_csv(aquaculture_volume, skiprows=2)"
   ]
  },
  {
   "cell_type": "markdown",
   "metadata": {},
   "source": [
    "### Value Dataset Preprocessing"
   ]
  },
  {
   "cell_type": "markdown",
   "metadata": {},
   "source": [
    "We check the first five values of the `Value` dataset and some basic statistics and summary.\n"
   ]
  },
  {
   "cell_type": "code",
   "execution_count": 3,
   "metadata": {},
   "outputs": [
    {
     "data": {
      "text/html": [
       "<div>\n",
       "<style scoped>\n",
       "    .dataframe tbody tr th:only-of-type {\n",
       "        vertical-align: middle;\n",
       "    }\n",
       "\n",
       "    .dataframe tbody tr th {\n",
       "        vertical-align: top;\n",
       "    }\n",
       "\n",
       "    .dataframe thead th {\n",
       "        text-align: right;\n",
       "    }\n",
       "</style>\n",
       "<table border=\"1\" class=\"dataframe\">\n",
       "  <thead>\n",
       "    <tr style=\"text-align: right;\">\n",
       "      <th></th>\n",
       "      <th>Species</th>\n",
       "      <th>Geolocation</th>\n",
       "      <th>2020 Quarter 1</th>\n",
       "      <th>2020 Quarter 2</th>\n",
       "      <th>2020 Quarter 3</th>\n",
       "      <th>2020 Quarter 4</th>\n",
       "      <th>2021 Quarter 1</th>\n",
       "      <th>2021 Quarter 2</th>\n",
       "      <th>2021 Quarter 3</th>\n",
       "      <th>2021 Quarter 4</th>\n",
       "      <th>...</th>\n",
       "      <th>2022 Quarter 3</th>\n",
       "      <th>2022 Quarter 4</th>\n",
       "      <th>2023 Quarter 1</th>\n",
       "      <th>2023 Quarter 2</th>\n",
       "      <th>2023 Quarter 3</th>\n",
       "      <th>2023 Quarter 4</th>\n",
       "      <th>2024 Quarter 1</th>\n",
       "      <th>2024 Quarter 2</th>\n",
       "      <th>2024 Quarter 3</th>\n",
       "      <th>2024 Quarter 4</th>\n",
       "    </tr>\n",
       "  </thead>\n",
       "  <tbody>\n",
       "    <tr>\n",
       "      <th>0</th>\n",
       "      <td>All Species</td>\n",
       "      <td>..National Capital Region (NCR)</td>\n",
       "      <td>10190.23</td>\n",
       "      <td>7107.16</td>\n",
       "      <td>31109.24</td>\n",
       "      <td>690.61</td>\n",
       "      <td>5612.63</td>\n",
       "      <td>13116.33</td>\n",
       "      <td>25643.24</td>\n",
       "      <td>3145.26</td>\n",
       "      <td>...</td>\n",
       "      <td>25025.90</td>\n",
       "      <td>25705.39</td>\n",
       "      <td>45180.57</td>\n",
       "      <td>82414.05</td>\n",
       "      <td>53537.64</td>\n",
       "      <td>20412.98</td>\n",
       "      <td>17456.54</td>\n",
       "      <td>55008.25</td>\n",
       "      <td>28303.01</td>\n",
       "      <td>6722.96</td>\n",
       "    </tr>\n",
       "    <tr>\n",
       "      <th>1</th>\n",
       "      <td>All Species</td>\n",
       "      <td>..Cordillera Administrative Region (CAR)</td>\n",
       "      <td>72535.13</td>\n",
       "      <td>71605.89</td>\n",
       "      <td>63179.79</td>\n",
       "      <td>83469.73</td>\n",
       "      <td>86797.81</td>\n",
       "      <td>86806.70</td>\n",
       "      <td>73271.87</td>\n",
       "      <td>96993.03</td>\n",
       "      <td>...</td>\n",
       "      <td>89126.50</td>\n",
       "      <td>95616.17</td>\n",
       "      <td>82654.88</td>\n",
       "      <td>110723.10</td>\n",
       "      <td>74849.87</td>\n",
       "      <td>85026.09</td>\n",
       "      <td>94935.26</td>\n",
       "      <td>81611.16</td>\n",
       "      <td>93064.73</td>\n",
       "      <td>111993.23</td>\n",
       "    </tr>\n",
       "    <tr>\n",
       "      <th>2</th>\n",
       "      <td>All Species</td>\n",
       "      <td>..Region I (Ilocos Region)</td>\n",
       "      <td>3062615.94</td>\n",
       "      <td>2935063.73</td>\n",
       "      <td>2277160.92</td>\n",
       "      <td>8225306.14</td>\n",
       "      <td>3318099.54</td>\n",
       "      <td>3627335.60</td>\n",
       "      <td>3055883.81</td>\n",
       "      <td>9651054.24</td>\n",
       "      <td>...</td>\n",
       "      <td>4008946.21</td>\n",
       "      <td>8536942.72</td>\n",
       "      <td>3815418.54</td>\n",
       "      <td>5166955.22</td>\n",
       "      <td>4418993.45</td>\n",
       "      <td>9226910.19</td>\n",
       "      <td>3557411.46</td>\n",
       "      <td>4276436.66</td>\n",
       "      <td>3798706.51</td>\n",
       "      <td>9894699.27</td>\n",
       "    </tr>\n",
       "    <tr>\n",
       "      <th>3</th>\n",
       "      <td>All Species</td>\n",
       "      <td>..Region II (Cagayan Valley)</td>\n",
       "      <td>213501.70</td>\n",
       "      <td>673595.33</td>\n",
       "      <td>465509.14</td>\n",
       "      <td>512671.28</td>\n",
       "      <td>224298.32</td>\n",
       "      <td>709289.25</td>\n",
       "      <td>449045.07</td>\n",
       "      <td>569854.45</td>\n",
       "      <td>...</td>\n",
       "      <td>706846.76</td>\n",
       "      <td>573447.57</td>\n",
       "      <td>368371.15</td>\n",
       "      <td>1013956.41</td>\n",
       "      <td>754175.87</td>\n",
       "      <td>628779.78</td>\n",
       "      <td>435131.55</td>\n",
       "      <td>860602.55</td>\n",
       "      <td>808622.41</td>\n",
       "      <td>460937.65</td>\n",
       "    </tr>\n",
       "    <tr>\n",
       "      <th>4</th>\n",
       "      <td>All Species</td>\n",
       "      <td>..Region III (Central Luzon)</td>\n",
       "      <td>9137119.99</td>\n",
       "      <td>14120277.00</td>\n",
       "      <td>4624628.78</td>\n",
       "      <td>10242874.70</td>\n",
       "      <td>10120596.51</td>\n",
       "      <td>14887526.14</td>\n",
       "      <td>5105722.25</td>\n",
       "      <td>11782029.78</td>\n",
       "      <td>...</td>\n",
       "      <td>4413429.04</td>\n",
       "      <td>11983872.94</td>\n",
       "      <td>13183639.32</td>\n",
       "      <td>13028333.57</td>\n",
       "      <td>6870963.18</td>\n",
       "      <td>14298248.00</td>\n",
       "      <td>14127397.93</td>\n",
       "      <td>9265737.61</td>\n",
       "      <td>5510636.98</td>\n",
       "      <td>13398491.78</td>\n",
       "    </tr>\n",
       "  </tbody>\n",
       "</table>\n",
       "<p>5 rows × 22 columns</p>\n",
       "</div>"
      ],
      "text/plain": [
       "       Species                               Geolocation 2020 Quarter 1  \\\n",
       "0  All Species           ..National Capital Region (NCR)       10190.23   \n",
       "1  All Species  ..Cordillera Administrative Region (CAR)       72535.13   \n",
       "2  All Species                ..Region I (Ilocos Region)     3062615.94   \n",
       "3  All Species              ..Region II (Cagayan Valley)      213501.70   \n",
       "4  All Species              ..Region III (Central Luzon)     9137119.99   \n",
       "\n",
       "  2020 Quarter 2 2020 Quarter 3 2020 Quarter 4 2021 Quarter 1 2021 Quarter 2  \\\n",
       "0        7107.16       31109.24         690.61        5612.63       13116.33   \n",
       "1       71605.89       63179.79       83469.73       86797.81       86806.70   \n",
       "2     2935063.73     2277160.92     8225306.14     3318099.54     3627335.60   \n",
       "3      673595.33      465509.14      512671.28      224298.32      709289.25   \n",
       "4    14120277.00     4624628.78    10242874.70    10120596.51    14887526.14   \n",
       "\n",
       "  2021 Quarter 3 2021 Quarter 4  ... 2022 Quarter 3 2022 Quarter 4  \\\n",
       "0       25643.24        3145.26  ...       25025.90       25705.39   \n",
       "1       73271.87       96993.03  ...       89126.50       95616.17   \n",
       "2     3055883.81     9651054.24  ...     4008946.21     8536942.72   \n",
       "3      449045.07      569854.45  ...      706846.76      573447.57   \n",
       "4     5105722.25    11782029.78  ...     4413429.04    11983872.94   \n",
       "\n",
       "  2023 Quarter 1 2023 Quarter 2 2023 Quarter 3 2023 Quarter 4 2024 Quarter 1  \\\n",
       "0       45180.57       82414.05       53537.64       20412.98       17456.54   \n",
       "1       82654.88      110723.10       74849.87       85026.09       94935.26   \n",
       "2     3815418.54     5166955.22     4418993.45     9226910.19     3557411.46   \n",
       "3      368371.15     1013956.41      754175.87      628779.78      435131.55   \n",
       "4    13183639.32    13028333.57     6870963.18    14298248.00    14127397.93   \n",
       "\n",
       "  2024 Quarter 2 2024 Quarter 3 2024 Quarter 4  \n",
       "0       55008.25       28303.01        6722.96  \n",
       "1       81611.16       93064.73      111993.23  \n",
       "2     4276436.66     3798706.51     9894699.27  \n",
       "3      860602.55      808622.41      460937.65  \n",
       "4     9265737.61     5510636.98    13398491.78  \n",
       "\n",
       "[5 rows x 22 columns]"
      ]
     },
     "execution_count": 3,
     "metadata": {},
     "output_type": "execute_result"
    }
   ],
   "source": [
    "value_df.head()"
   ]
  },
  {
   "cell_type": "code",
   "execution_count": 4,
   "metadata": {},
   "outputs": [
    {
     "data": {
      "text/plain": [
       "(340, 22)"
      ]
     },
     "execution_count": 4,
     "metadata": {},
     "output_type": "execute_result"
    }
   ],
   "source": [
    "value_df.shape"
   ]
  },
  {
   "cell_type": "code",
   "execution_count": 5,
   "metadata": {},
   "outputs": [
    {
     "name": "stdout",
     "output_type": "stream",
     "text": [
      "<class 'pandas.core.frame.DataFrame'>\n",
      "RangeIndex: 340 entries, 0 to 339\n",
      "Data columns (total 22 columns):\n",
      " #   Column          Non-Null Count  Dtype \n",
      "---  ------          --------------  ----- \n",
      " 0   Species         340 non-null    object\n",
      " 1   Geolocation     340 non-null    object\n",
      " 2   2020 Quarter 1  340 non-null    object\n",
      " 3   2020 Quarter 2  340 non-null    object\n",
      " 4   2020 Quarter 3  340 non-null    object\n",
      " 5   2020 Quarter 4  340 non-null    object\n",
      " 6   2021 Quarter 1  340 non-null    object\n",
      " 7   2021 Quarter 2  340 non-null    object\n",
      " 8   2021 Quarter 3  340 non-null    object\n",
      " 9   2021 Quarter 4  340 non-null    object\n",
      " 10  2022 Quarter 1  340 non-null    object\n",
      " 11  2022 Quarter 2  340 non-null    object\n",
      " 12  2022 Quarter 3  340 non-null    object\n",
      " 13  2022 Quarter 4  340 non-null    object\n",
      " 14  2023 Quarter 1  340 non-null    object\n",
      " 15  2023 Quarter 2  340 non-null    object\n",
      " 16  2023 Quarter 3  340 non-null    object\n",
      " 17  2023 Quarter 4  340 non-null    object\n",
      " 18  2024 Quarter 1  340 non-null    object\n",
      " 19  2024 Quarter 2  340 non-null    object\n",
      " 20  2024 Quarter 3  340 non-null    object\n",
      " 21  2024 Quarter 4  340 non-null    object\n",
      "dtypes: object(22)\n",
      "memory usage: 58.6+ KB\n"
     ]
    }
   ],
   "source": [
    "value_df.info()"
   ]
  },
  {
   "cell_type": "code",
   "execution_count": 6,
   "metadata": {},
   "outputs": [
    {
     "data": {
      "text/html": [
       "<div>\n",
       "<style scoped>\n",
       "    .dataframe tbody tr th:only-of-type {\n",
       "        vertical-align: middle;\n",
       "    }\n",
       "\n",
       "    .dataframe tbody tr th {\n",
       "        vertical-align: top;\n",
       "    }\n",
       "\n",
       "    .dataframe thead th {\n",
       "        text-align: right;\n",
       "    }\n",
       "</style>\n",
       "<table border=\"1\" class=\"dataframe\">\n",
       "  <thead>\n",
       "    <tr style=\"text-align: right;\">\n",
       "      <th></th>\n",
       "      <th>Species</th>\n",
       "      <th>Geolocation</th>\n",
       "      <th>2020 Quarter 1</th>\n",
       "      <th>2020 Quarter 2</th>\n",
       "      <th>2020 Quarter 3</th>\n",
       "      <th>2020 Quarter 4</th>\n",
       "      <th>2021 Quarter 1</th>\n",
       "      <th>2021 Quarter 2</th>\n",
       "      <th>2021 Quarter 3</th>\n",
       "      <th>2021 Quarter 4</th>\n",
       "      <th>...</th>\n",
       "      <th>2022 Quarter 3</th>\n",
       "      <th>2022 Quarter 4</th>\n",
       "      <th>2023 Quarter 1</th>\n",
       "      <th>2023 Quarter 2</th>\n",
       "      <th>2023 Quarter 3</th>\n",
       "      <th>2023 Quarter 4</th>\n",
       "      <th>2024 Quarter 1</th>\n",
       "      <th>2024 Quarter 2</th>\n",
       "      <th>2024 Quarter 3</th>\n",
       "      <th>2024 Quarter 4</th>\n",
       "    </tr>\n",
       "  </thead>\n",
       "  <tbody>\n",
       "    <tr>\n",
       "      <th>count</th>\n",
       "      <td>340</td>\n",
       "      <td>340</td>\n",
       "      <td>340</td>\n",
       "      <td>340</td>\n",
       "      <td>340</td>\n",
       "      <td>340</td>\n",
       "      <td>340</td>\n",
       "      <td>340</td>\n",
       "      <td>340</td>\n",
       "      <td>340</td>\n",
       "      <td>...</td>\n",
       "      <td>340</td>\n",
       "      <td>340</td>\n",
       "      <td>340</td>\n",
       "      <td>340</td>\n",
       "      <td>340</td>\n",
       "      <td>340</td>\n",
       "      <td>340</td>\n",
       "      <td>340</td>\n",
       "      <td>340</td>\n",
       "      <td>340</td>\n",
       "    </tr>\n",
       "    <tr>\n",
       "      <th>unique</th>\n",
       "      <td>20</td>\n",
       "      <td>17</td>\n",
       "      <td>240</td>\n",
       "      <td>243</td>\n",
       "      <td>242</td>\n",
       "      <td>246</td>\n",
       "      <td>235</td>\n",
       "      <td>238</td>\n",
       "      <td>237</td>\n",
       "      <td>248</td>\n",
       "      <td>...</td>\n",
       "      <td>248</td>\n",
       "      <td>248</td>\n",
       "      <td>255</td>\n",
       "      <td>252</td>\n",
       "      <td>240</td>\n",
       "      <td>240</td>\n",
       "      <td>239</td>\n",
       "      <td>252</td>\n",
       "      <td>241</td>\n",
       "      <td>249</td>\n",
       "    </tr>\n",
       "    <tr>\n",
       "      <th>top</th>\n",
       "      <td>All Species</td>\n",
       "      <td>..National Capital Region (NCR)</td>\n",
       "      <td>..</td>\n",
       "      <td>..</td>\n",
       "      <td>..</td>\n",
       "      <td>..</td>\n",
       "      <td>..</td>\n",
       "      <td>..</td>\n",
       "      <td>..</td>\n",
       "      <td>..</td>\n",
       "      <td>...</td>\n",
       "      <td>..</td>\n",
       "      <td>..</td>\n",
       "      <td>..</td>\n",
       "      <td>..</td>\n",
       "      <td>..</td>\n",
       "      <td>..</td>\n",
       "      <td>..</td>\n",
       "      <td>..</td>\n",
       "      <td>..</td>\n",
       "      <td>..</td>\n",
       "    </tr>\n",
       "    <tr>\n",
       "      <th>freq</th>\n",
       "      <td>17</td>\n",
       "      <td>20</td>\n",
       "      <td>99</td>\n",
       "      <td>96</td>\n",
       "      <td>97</td>\n",
       "      <td>94</td>\n",
       "      <td>100</td>\n",
       "      <td>98</td>\n",
       "      <td>102</td>\n",
       "      <td>91</td>\n",
       "      <td>...</td>\n",
       "      <td>92</td>\n",
       "      <td>93</td>\n",
       "      <td>86</td>\n",
       "      <td>89</td>\n",
       "      <td>101</td>\n",
       "      <td>101</td>\n",
       "      <td>102</td>\n",
       "      <td>89</td>\n",
       "      <td>100</td>\n",
       "      <td>91</td>\n",
       "    </tr>\n",
       "  </tbody>\n",
       "</table>\n",
       "<p>4 rows × 22 columns</p>\n",
       "</div>"
      ],
      "text/plain": [
       "            Species                      Geolocation 2020 Quarter 1  \\\n",
       "count           340                              340            340   \n",
       "unique           20                               17            240   \n",
       "top     All Species  ..National Capital Region (NCR)             ..   \n",
       "freq             17                               20             99   \n",
       "\n",
       "       2020 Quarter 2 2020 Quarter 3 2020 Quarter 4 2021 Quarter 1  \\\n",
       "count             340            340            340            340   \n",
       "unique            243            242            246            235   \n",
       "top                ..             ..             ..             ..   \n",
       "freq               96             97             94            100   \n",
       "\n",
       "       2021 Quarter 2 2021 Quarter 3 2021 Quarter 4  ... 2022 Quarter 3  \\\n",
       "count             340            340            340  ...            340   \n",
       "unique            238            237            248  ...            248   \n",
       "top                ..             ..             ..  ...             ..   \n",
       "freq               98            102             91  ...             92   \n",
       "\n",
       "       2022 Quarter 4 2023 Quarter 1 2023 Quarter 2 2023 Quarter 3  \\\n",
       "count             340            340            340            340   \n",
       "unique            248            255            252            240   \n",
       "top                ..             ..             ..             ..   \n",
       "freq               93             86             89            101   \n",
       "\n",
       "       2023 Quarter 4 2024 Quarter 1 2024 Quarter 2 2024 Quarter 3  \\\n",
       "count             340            340            340            340   \n",
       "unique            240            239            252            241   \n",
       "top                ..             ..             ..             ..   \n",
       "freq              101            102             89            100   \n",
       "\n",
       "       2024 Quarter 4  \n",
       "count             340  \n",
       "unique            249  \n",
       "top                ..  \n",
       "freq               91  \n",
       "\n",
       "[4 rows x 22 columns]"
      ]
     },
     "execution_count": 6,
     "metadata": {},
     "output_type": "execute_result"
    }
   ],
   "source": [
    "value_df.describe()"
   ]
  },
  {
   "cell_type": "markdown",
   "metadata": {},
   "source": [
    "Note from the `info()` summary above, there seems to be something that misleads us about the summary of the dataset since based on the `describe()` cell, the `top` value (most frequent) on the Year-Quarter columns is `..`. This string doesn't correspond to a valid quantitative value which may mean that it might pertain to a `NULL` value instead. We verify the count of the `..` string if this is indeed the case but before that, we first verify if the `Species` and `Geolocation` columns are consistent."
   ]
  },
  {
   "cell_type": "code",
   "execution_count": 68,
   "metadata": {},
   "outputs": [
    {
     "name": "stdout",
     "output_type": "stream",
     "text": [
      "['All Species' '..Milkfish' '..Tilapia' '..Tiger Prawn' '..Mudcrab'\n",
      " '..Endeavor Prawn' '..White Shrimp' '..Grouper' '..Siganid'\n",
      " '..P. Vannamei' '..Spiny Lobster' '..Carp' '..Catfish' '..Gourami'\n",
      " '..Mudfish' '..Freshwater Prawn' '..Others' '..Oyster' '..Mussel'\n",
      " '..Seaweed']\n",
      "['..National Capital Region (NCR)'\n",
      " '..Cordillera Administrative Region (CAR)' '..Region I (Ilocos Region)'\n",
      " '..Region II (Cagayan Valley)' '..Region III (Central Luzon)'\n",
      " '..Region IV-A (CALABARZON)' '..MIMAROPA Region'\n",
      " '..Region V (Bicol Region)' '..Region VI (Western Visayas)'\n",
      " '..Region VII (Central Visayas)' '..Region VIII (Eastern Visayas)'\n",
      " '..Region IX (Zamboanga Peninsula)' '..Region X (Nothern Mindanao)'\n",
      " '..Region XI (Davao Region)' '..Region XII (SOCCSKSARGEN)'\n",
      " '..Region XIII (Caraga)'\n",
      " '..Bangsamoro Autonomous Region in Muslim Mindanao (BARMM)']\n"
     ]
    }
   ],
   "source": [
    "print(value_df['Species'].unique())\n",
    "\n",
    "print(value_df['Geolocation'].unique())"
   ]
  },
  {
   "cell_type": "markdown",
   "metadata": {},
   "source": [
    "Since they all refer to valid specie and location, we can proceed to the Year-Quarter combinations."
   ]
  },
  {
   "cell_type": "code",
   "execution_count": null,
   "metadata": {},
   "outputs": [
    {
     "name": "stdout",
     "output_type": "stream",
     "text": [
      "2020 Quarter 1: 99 / 340\n",
      "2020 Quarter 2: 96 / 340\n",
      "2020 Quarter 3: 97 / 340\n",
      "2020 Quarter 4: 94 / 340\n",
      "2021 Quarter 1: 100 / 340\n",
      "2021 Quarter 2: 98 / 340\n",
      "2021 Quarter 3: 102 / 340\n",
      "2021 Quarter 4: 91 / 340\n",
      "2022 Quarter 1: 90 / 340\n",
      "2022 Quarter 2: 98 / 340\n",
      "2022 Quarter 3: 92 / 340\n",
      "2022 Quarter 4: 93 / 340\n",
      "2023 Quarter 1: 86 / 340\n",
      "2023 Quarter 2: 89 / 340\n",
      "2023 Quarter 3: 101 / 340\n",
      "2023 Quarter 4: 101 / 340\n",
      "2024 Quarter 1: 102 / 340\n",
      "2024 Quarter 2: 89 / 340\n",
      "2024 Quarter 3: 100 / 340\n",
      "2024 Quarter 4: 91 / 340\n"
     ]
    }
   ],
   "source": [
    "year_quarter_cols = value_df.columns[2:]\n",
    "\n",
    "for col in year_quarter_cols:\n",
    "    filtered_df = value_df[value_df[col] == '..']\n",
    "    print(f'{col}: {filtered_df.shape[0]} / {value_df.shape[0]} = {filtered_df.shape[0] / value_df.shape[0]}%')"
   ]
  },
  {
   "cell_type": "markdown",
   "metadata": {},
   "source": [
    "As we can see, a decent amount of samples contain `NULL` values under each Year-Quarter columns. Before we impute, we first transform each `..` string into `NULL`."
   ]
  },
  {
   "cell_type": "code",
   "execution_count": 9,
   "metadata": {},
   "outputs": [],
   "source": [
    "value_df = value_df.replace({'..': np.nan})"
   ]
  },
  {
   "cell_type": "code",
   "execution_count": 10,
   "metadata": {},
   "outputs": [
    {
     "name": "stdout",
     "output_type": "stream",
     "text": [
      "2020 Quarter 1: 0 / 340\n",
      "2020 Quarter 2: 0 / 340\n",
      "2020 Quarter 3: 0 / 340\n",
      "2020 Quarter 4: 0 / 340\n",
      "2021 Quarter 1: 0 / 340\n",
      "2021 Quarter 2: 0 / 340\n",
      "2021 Quarter 3: 0 / 340\n",
      "2021 Quarter 4: 0 / 340\n",
      "2022 Quarter 1: 0 / 340\n",
      "2022 Quarter 2: 0 / 340\n",
      "2022 Quarter 3: 0 / 340\n",
      "2022 Quarter 4: 0 / 340\n",
      "2023 Quarter 1: 0 / 340\n",
      "2023 Quarter 2: 0 / 340\n",
      "2023 Quarter 3: 0 / 340\n",
      "2023 Quarter 4: 0 / 340\n",
      "2024 Quarter 1: 0 / 340\n",
      "2024 Quarter 2: 0 / 340\n",
      "2024 Quarter 3: 0 / 340\n",
      "2024 Quarter 4: 0 / 340\n"
     ]
    }
   ],
   "source": [
    "for col in year_quarter_cols:\n",
    "    filtered_df = value_df[value_df[col] == '..']\n",
    "    print(f'{col}: {filtered_df.shape[0]} / {value_df.shape[0]}')"
   ]
  },
  {
   "cell_type": "code",
   "execution_count": 11,
   "metadata": {},
   "outputs": [
    {
     "name": "stdout",
     "output_type": "stream",
     "text": [
      "<class 'pandas.core.frame.DataFrame'>\n",
      "RangeIndex: 340 entries, 0 to 339\n",
      "Data columns (total 22 columns):\n",
      " #   Column          Non-Null Count  Dtype \n",
      "---  ------          --------------  ----- \n",
      " 0   Species         340 non-null    object\n",
      " 1   Geolocation     340 non-null    object\n",
      " 2   2020 Quarter 1  241 non-null    object\n",
      " 3   2020 Quarter 2  244 non-null    object\n",
      " 4   2020 Quarter 3  243 non-null    object\n",
      " 5   2020 Quarter 4  246 non-null    object\n",
      " 6   2021 Quarter 1  240 non-null    object\n",
      " 7   2021 Quarter 2  242 non-null    object\n",
      " 8   2021 Quarter 3  238 non-null    object\n",
      " 9   2021 Quarter 4  249 non-null    object\n",
      " 10  2022 Quarter 1  250 non-null    object\n",
      " 11  2022 Quarter 2  242 non-null    object\n",
      " 12  2022 Quarter 3  248 non-null    object\n",
      " 13  2022 Quarter 4  247 non-null    object\n",
      " 14  2023 Quarter 1  254 non-null    object\n",
      " 15  2023 Quarter 2  251 non-null    object\n",
      " 16  2023 Quarter 3  239 non-null    object\n",
      " 17  2023 Quarter 4  239 non-null    object\n",
      " 18  2024 Quarter 1  238 non-null    object\n",
      " 19  2024 Quarter 2  251 non-null    object\n",
      " 20  2024 Quarter 3  240 non-null    object\n",
      " 21  2024 Quarter 4  249 non-null    object\n",
      "dtypes: object(22)\n",
      "memory usage: 58.6+ KB\n"
     ]
    }
   ],
   "source": [
    "value_df.info()"
   ]
  },
  {
   "cell_type": "markdown",
   "metadata": {},
   "source": [
    "We can now proceed to imputation since we now have valid `NULL` values. For imputation, we first identify if utilizing the mean of each time series data for each `Species` - `Geolocation` combination could affect the output."
   ]
  },
  {
   "cell_type": "code",
   "execution_count": 12,
   "metadata": {},
   "outputs": [],
   "source": [
    "from sklearn.impute import KNNImputer\n",
    "from sklearn.preprocessing import LabelEncoder"
   ]
  },
  {
   "cell_type": "code",
   "execution_count": 14,
   "metadata": {},
   "outputs": [],
   "source": [
    "impute_df = value_df.copy()\n",
    "\n",
    "labeled_species = LabelEncoder()\n",
    "labeled_geo = LabelEncoder()\n",
    "\n",
    "impute_df['Species_encoded'] = labeled_species.fit_transform(impute_df['Species'])\n",
    "impute_df['Geolocation_encoded'] = labeled_geo.fit_transform(impute_df['Geolocation'])\n",
    "\n",
    "knn_features = pd.concat([\n",
    "    impute_df[['Species_encoded', 'Geolocation_encoded']]\n",
    "], axis=1)\n",
    "\n",
    "for col in year_quarter_cols:\n",
    "    knn_imputer = KNNImputer(n_neighbors=3)\n",
    "    imputed_data = pd.DataFrame(\n",
    "        knn_imputer.fit_transform(pd.concat([knn_features, impute_df[[col]]], axis=1)),\n",
    "        columns=list(knn_features.columns) + [col]\n",
    "    )\n",
    "\n",
    "    value_df[col] = imputed_data[col]"
   ]
  },
  {
   "cell_type": "code",
   "execution_count": 16,
   "metadata": {},
   "outputs": [
    {
     "name": "stdout",
     "output_type": "stream",
     "text": [
      "<class 'pandas.core.frame.DataFrame'>\n",
      "RangeIndex: 340 entries, 0 to 339\n",
      "Data columns (total 22 columns):\n",
      " #   Column          Non-Null Count  Dtype  \n",
      "---  ------          --------------  -----  \n",
      " 0   Species         340 non-null    object \n",
      " 1   Geolocation     340 non-null    object \n",
      " 2   2020 Quarter 1  340 non-null    float64\n",
      " 3   2020 Quarter 2  340 non-null    float64\n",
      " 4   2020 Quarter 3  340 non-null    float64\n",
      " 5   2020 Quarter 4  340 non-null    float64\n",
      " 6   2021 Quarter 1  340 non-null    float64\n",
      " 7   2021 Quarter 2  340 non-null    float64\n",
      " 8   2021 Quarter 3  340 non-null    float64\n",
      " 9   2021 Quarter 4  340 non-null    float64\n",
      " 10  2022 Quarter 1  340 non-null    float64\n",
      " 11  2022 Quarter 2  340 non-null    float64\n",
      " 12  2022 Quarter 3  340 non-null    float64\n",
      " 13  2022 Quarter 4  340 non-null    float64\n",
      " 14  2023 Quarter 1  340 non-null    float64\n",
      " 15  2023 Quarter 2  340 non-null    float64\n",
      " 16  2023 Quarter 3  340 non-null    float64\n",
      " 17  2023 Quarter 4  340 non-null    float64\n",
      " 18  2024 Quarter 1  340 non-null    float64\n",
      " 19  2024 Quarter 2  340 non-null    float64\n",
      " 20  2024 Quarter 3  340 non-null    float64\n",
      " 21  2024 Quarter 4  340 non-null    float64\n",
      "dtypes: float64(20), object(2)\n",
      "memory usage: 58.6+ KB\n"
     ]
    }
   ],
   "source": [
    "value_df.info()"
   ]
  },
  {
   "cell_type": "markdown",
   "metadata": {},
   "source": [
    "Now that we're done with the imputation, we can now proceed in standardizing column values and dataset formatting. Since we're done preprocessing the values for the values for each year-quarter combination, we proceed to preprocessing the values for the `Species` and `Geolocation` columns."
   ]
  },
  {
   "cell_type": "code",
   "execution_count": 17,
   "metadata": {},
   "outputs": [
    {
     "data": {
      "text/plain": [
       "array(['All Species', '..Milkfish', '..Tilapia', '..Tiger Prawn',\n",
       "       '..Mudcrab', '..Endeavor Prawn', '..White Shrimp', '..Grouper',\n",
       "       '..Siganid', '..P. Vannamei', '..Spiny Lobster', '..Carp',\n",
       "       '..Catfish', '..Gourami', '..Mudfish', '..Freshwater Prawn',\n",
       "       '..Others', '..Oyster', '..Mussel', '..Seaweed'], dtype=object)"
      ]
     },
     "execution_count": 17,
     "metadata": {},
     "output_type": "execute_result"
    }
   ],
   "source": [
    "value_df['Species'].unique()"
   ]
  },
  {
   "cell_type": "code",
   "execution_count": 18,
   "metadata": {},
   "outputs": [
    {
     "data": {
      "text/plain": [
       "array(['..National Capital Region (NCR)',\n",
       "       '..Cordillera Administrative Region (CAR)',\n",
       "       '..Region I (Ilocos Region)', '..Region II (Cagayan Valley)',\n",
       "       '..Region III (Central Luzon)', '..Region IV-A (CALABARZON)',\n",
       "       '..MIMAROPA Region', '..Region V (Bicol Region)',\n",
       "       '..Region VI (Western Visayas)', '..Region VII (Central Visayas)',\n",
       "       '..Region VIII (Eastern Visayas)',\n",
       "       '..Region IX (Zamboanga Peninsula)',\n",
       "       '..Region X (Nothern Mindanao)', '..Region XI (Davao Region)',\n",
       "       '..Region XII (SOCCSKSARGEN)', '..Region XIII (Caraga)',\n",
       "       '..Bangsamoro Autonomous Region in Muslim Mindanao (BARMM)'],\n",
       "      dtype=object)"
      ]
     },
     "execution_count": 18,
     "metadata": {},
     "output_type": "execute_result"
    }
   ],
   "source": [
    "value_df['Geolocation'].unique()"
   ]
  },
  {
   "cell_type": "markdown",
   "metadata": {},
   "source": [
    "Since the list is exhaustible, we can see that the formatting for each `Species` and `Geolocation` values are not standardized."
   ]
  },
  {
   "cell_type": "code",
   "execution_count": 19,
   "metadata": {},
   "outputs": [],
   "source": [
    "def remove_dots(string):\n",
    "    if string[:2] == '..':\n",
    "        return string[2:]\n",
    "    return string\n",
    "\n",
    "value_df['Species'] = value_df['Species'].apply(remove_dots)\n",
    "value_df['Geolocation'] = value_df['Geolocation'].apply(remove_dots)"
   ]
  },
  {
   "cell_type": "code",
   "execution_count": 20,
   "metadata": {},
   "outputs": [
    {
     "data": {
      "text/plain": [
       "array(['All Species', 'Milkfish', 'Tilapia', 'Tiger Prawn', 'Mudcrab',\n",
       "       'Endeavor Prawn', 'White Shrimp', 'Grouper', 'Siganid',\n",
       "       'P. Vannamei', 'Spiny Lobster', 'Carp', 'Catfish', 'Gourami',\n",
       "       'Mudfish', 'Freshwater Prawn', 'Others', 'Oyster', 'Mussel',\n",
       "       'Seaweed'], dtype=object)"
      ]
     },
     "execution_count": 20,
     "metadata": {},
     "output_type": "execute_result"
    }
   ],
   "source": [
    "value_df['Species'].unique()"
   ]
  },
  {
   "cell_type": "code",
   "execution_count": 21,
   "metadata": {},
   "outputs": [
    {
     "data": {
      "text/plain": [
       "array(['National Capital Region (NCR)',\n",
       "       'Cordillera Administrative Region (CAR)',\n",
       "       'Region I (Ilocos Region)', 'Region II (Cagayan Valley)',\n",
       "       'Region III (Central Luzon)', 'Region IV-A (CALABARZON)',\n",
       "       'MIMAROPA Region', 'Region V (Bicol Region)',\n",
       "       'Region VI (Western Visayas)', 'Region VII (Central Visayas)',\n",
       "       'Region VIII (Eastern Visayas)', 'Region IX (Zamboanga Peninsula)',\n",
       "       'Region X (Nothern Mindanao)', 'Region XI (Davao Region)',\n",
       "       'Region XII (SOCCSKSARGEN)', 'Region XIII (Caraga)',\n",
       "       'Bangsamoro Autonomous Region in Muslim Mindanao (BARMM)'],\n",
       "      dtype=object)"
      ]
     },
     "execution_count": 21,
     "metadata": {},
     "output_type": "execute_result"
    }
   ],
   "source": [
    "value_df['Geolocation'].unique()"
   ]
  },
  {
   "cell_type": "markdown",
   "metadata": {},
   "source": [
    "Also, the formatting of the dataset is in wide format. We fix this by making it long so that it would be suitable for time series analysis."
   ]
  },
  {
   "cell_type": "code",
   "execution_count": 22,
   "metadata": {},
   "outputs": [],
   "source": [
    "value_df = value_df.melt(['Species', 'Geolocation'], var_name=\"Year-Quarter\", value_name=\"Value\", ignore_index=True)"
   ]
  },
  {
   "cell_type": "markdown",
   "metadata": {},
   "source": [
    "Now, our dataset looks like the following."
   ]
  },
  {
   "cell_type": "code",
   "execution_count": 23,
   "metadata": {},
   "outputs": [
    {
     "data": {
      "text/html": [
       "<div>\n",
       "<style scoped>\n",
       "    .dataframe tbody tr th:only-of-type {\n",
       "        vertical-align: middle;\n",
       "    }\n",
       "\n",
       "    .dataframe tbody tr th {\n",
       "        vertical-align: top;\n",
       "    }\n",
       "\n",
       "    .dataframe thead th {\n",
       "        text-align: right;\n",
       "    }\n",
       "</style>\n",
       "<table border=\"1\" class=\"dataframe\">\n",
       "  <thead>\n",
       "    <tr style=\"text-align: right;\">\n",
       "      <th></th>\n",
       "      <th>Species</th>\n",
       "      <th>Geolocation</th>\n",
       "      <th>Year-Quarter</th>\n",
       "      <th>Value</th>\n",
       "    </tr>\n",
       "  </thead>\n",
       "  <tbody>\n",
       "    <tr>\n",
       "      <th>0</th>\n",
       "      <td>All Species</td>\n",
       "      <td>National Capital Region (NCR)</td>\n",
       "      <td>2020 Quarter 1</td>\n",
       "      <td>10190.23</td>\n",
       "    </tr>\n",
       "    <tr>\n",
       "      <th>1</th>\n",
       "      <td>All Species</td>\n",
       "      <td>Cordillera Administrative Region (CAR)</td>\n",
       "      <td>2020 Quarter 1</td>\n",
       "      <td>72535.13</td>\n",
       "    </tr>\n",
       "    <tr>\n",
       "      <th>2</th>\n",
       "      <td>All Species</td>\n",
       "      <td>Region I (Ilocos Region)</td>\n",
       "      <td>2020 Quarter 1</td>\n",
       "      <td>3062615.94</td>\n",
       "    </tr>\n",
       "    <tr>\n",
       "      <th>3</th>\n",
       "      <td>All Species</td>\n",
       "      <td>Region II (Cagayan Valley)</td>\n",
       "      <td>2020 Quarter 1</td>\n",
       "      <td>213501.70</td>\n",
       "    </tr>\n",
       "    <tr>\n",
       "      <th>4</th>\n",
       "      <td>All Species</td>\n",
       "      <td>Region III (Central Luzon)</td>\n",
       "      <td>2020 Quarter 1</td>\n",
       "      <td>9137119.99</td>\n",
       "    </tr>\n",
       "  </tbody>\n",
       "</table>\n",
       "</div>"
      ],
      "text/plain": [
       "       Species                             Geolocation    Year-Quarter  \\\n",
       "0  All Species           National Capital Region (NCR)  2020 Quarter 1   \n",
       "1  All Species  Cordillera Administrative Region (CAR)  2020 Quarter 1   \n",
       "2  All Species                Region I (Ilocos Region)  2020 Quarter 1   \n",
       "3  All Species              Region II (Cagayan Valley)  2020 Quarter 1   \n",
       "4  All Species              Region III (Central Luzon)  2020 Quarter 1   \n",
       "\n",
       "        Value  \n",
       "0    10190.23  \n",
       "1    72535.13  \n",
       "2  3062615.94  \n",
       "3   213501.70  \n",
       "4  9137119.99  "
      ]
     },
     "execution_count": 23,
     "metadata": {},
     "output_type": "execute_result"
    }
   ],
   "source": [
    "value_df.head()"
   ]
  },
  {
   "cell_type": "markdown",
   "metadata": {},
   "source": [
    "We can also split the `Year-Quarter` column into two: `Year` and `Quarter`."
   ]
  },
  {
   "cell_type": "code",
   "execution_count": 24,
   "metadata": {},
   "outputs": [],
   "source": [
    "value_df['Year'] = value_df['Year-Quarter'].str[:4]\n",
    "value_df['Quarter'] = value_df['Year-Quarter'].str[4:]\n",
    "value_df.drop(['Year-Quarter'], axis=1, inplace=True)"
   ]
  },
  {
   "cell_type": "code",
   "execution_count": 25,
   "metadata": {},
   "outputs": [
    {
     "data": {
      "text/html": [
       "<div>\n",
       "<style scoped>\n",
       "    .dataframe tbody tr th:only-of-type {\n",
       "        vertical-align: middle;\n",
       "    }\n",
       "\n",
       "    .dataframe tbody tr th {\n",
       "        vertical-align: top;\n",
       "    }\n",
       "\n",
       "    .dataframe thead th {\n",
       "        text-align: right;\n",
       "    }\n",
       "</style>\n",
       "<table border=\"1\" class=\"dataframe\">\n",
       "  <thead>\n",
       "    <tr style=\"text-align: right;\">\n",
       "      <th></th>\n",
       "      <th>Species</th>\n",
       "      <th>Geolocation</th>\n",
       "      <th>Value</th>\n",
       "      <th>Year</th>\n",
       "      <th>Quarter</th>\n",
       "    </tr>\n",
       "  </thead>\n",
       "  <tbody>\n",
       "    <tr>\n",
       "      <th>0</th>\n",
       "      <td>All Species</td>\n",
       "      <td>National Capital Region (NCR)</td>\n",
       "      <td>10190.23</td>\n",
       "      <td>2020</td>\n",
       "      <td>Quarter 1</td>\n",
       "    </tr>\n",
       "    <tr>\n",
       "      <th>1</th>\n",
       "      <td>All Species</td>\n",
       "      <td>Cordillera Administrative Region (CAR)</td>\n",
       "      <td>72535.13</td>\n",
       "      <td>2020</td>\n",
       "      <td>Quarter 1</td>\n",
       "    </tr>\n",
       "    <tr>\n",
       "      <th>2</th>\n",
       "      <td>All Species</td>\n",
       "      <td>Region I (Ilocos Region)</td>\n",
       "      <td>3062615.94</td>\n",
       "      <td>2020</td>\n",
       "      <td>Quarter 1</td>\n",
       "    </tr>\n",
       "    <tr>\n",
       "      <th>3</th>\n",
       "      <td>All Species</td>\n",
       "      <td>Region II (Cagayan Valley)</td>\n",
       "      <td>213501.70</td>\n",
       "      <td>2020</td>\n",
       "      <td>Quarter 1</td>\n",
       "    </tr>\n",
       "    <tr>\n",
       "      <th>4</th>\n",
       "      <td>All Species</td>\n",
       "      <td>Region III (Central Luzon)</td>\n",
       "      <td>9137119.99</td>\n",
       "      <td>2020</td>\n",
       "      <td>Quarter 1</td>\n",
       "    </tr>\n",
       "  </tbody>\n",
       "</table>\n",
       "</div>"
      ],
      "text/plain": [
       "       Species                             Geolocation       Value  Year  \\\n",
       "0  All Species           National Capital Region (NCR)    10190.23  2020   \n",
       "1  All Species  Cordillera Administrative Region (CAR)    72535.13  2020   \n",
       "2  All Species                Region I (Ilocos Region)  3062615.94  2020   \n",
       "3  All Species              Region II (Cagayan Valley)   213501.70  2020   \n",
       "4  All Species              Region III (Central Luzon)  9137119.99  2020   \n",
       "\n",
       "      Quarter  \n",
       "0   Quarter 1  \n",
       "1   Quarter 1  \n",
       "2   Quarter 1  \n",
       "3   Quarter 1  \n",
       "4   Quarter 1  "
      ]
     },
     "execution_count": 25,
     "metadata": {},
     "output_type": "execute_result"
    }
   ],
   "source": [
    "value_df.head()"
   ]
  },
  {
   "cell_type": "markdown",
   "metadata": {},
   "source": [
    "And with this, we're done preprocessing the `Value` dataset. We now proceed and do the same for the `Volume` dataset."
   ]
  },
  {
   "cell_type": "markdown",
   "metadata": {},
   "source": [
    "## Volume Dataframe Check"
   ]
  },
  {
   "cell_type": "markdown",
   "metadata": {},
   "source": [
    "Just like the `Value` dataset, we perform the same set of steps for the `Volume` dataset.\n",
    "\n",
    "1. Check a quick summary.\n",
    "2. Clean the data through imputation and data type fixing.\n",
    "3. Transform each column and dataset format."
   ]
  },
  {
   "cell_type": "code",
   "execution_count": 42,
   "metadata": {},
   "outputs": [
    {
     "data": {
      "text/html": [
       "<div>\n",
       "<style scoped>\n",
       "    .dataframe tbody tr th:only-of-type {\n",
       "        vertical-align: middle;\n",
       "    }\n",
       "\n",
       "    .dataframe tbody tr th {\n",
       "        vertical-align: top;\n",
       "    }\n",
       "\n",
       "    .dataframe thead th {\n",
       "        text-align: right;\n",
       "    }\n",
       "</style>\n",
       "<table border=\"1\" class=\"dataframe\">\n",
       "  <thead>\n",
       "    <tr style=\"text-align: right;\">\n",
       "      <th></th>\n",
       "      <th>Species</th>\n",
       "      <th>Geolocation</th>\n",
       "      <th>2020 Quarter 1</th>\n",
       "      <th>2020 Quarter 2</th>\n",
       "      <th>2020 Quarter 3</th>\n",
       "      <th>2020 Quarter 4</th>\n",
       "      <th>2021 Quarter 1</th>\n",
       "      <th>2021 Quarter 2</th>\n",
       "      <th>2021 Quarter 3</th>\n",
       "      <th>2021 Quarter 4</th>\n",
       "      <th>...</th>\n",
       "      <th>2022 Quarter 3</th>\n",
       "      <th>2022 Quarter 4</th>\n",
       "      <th>2023 Quarter 1</th>\n",
       "      <th>2023 Quarter 2</th>\n",
       "      <th>2023 Quarter 3</th>\n",
       "      <th>2023 Quarter 4</th>\n",
       "      <th>2024 Quarter 1</th>\n",
       "      <th>2024 Quarter 2</th>\n",
       "      <th>2024 Quarter 3</th>\n",
       "      <th>2024 Quarter 4</th>\n",
       "    </tr>\n",
       "  </thead>\n",
       "  <tbody>\n",
       "    <tr>\n",
       "      <th>0</th>\n",
       "      <td>All Species</td>\n",
       "      <td>..National Capital Region (NCR)</td>\n",
       "      <td>250.84</td>\n",
       "      <td>173.13</td>\n",
       "      <td>704.16</td>\n",
       "      <td>9.79</td>\n",
       "      <td>120.30</td>\n",
       "      <td>202.76</td>\n",
       "      <td>407.66</td>\n",
       "      <td>53.25</td>\n",
       "      <td>...</td>\n",
       "      <td>417.54</td>\n",
       "      <td>441.13</td>\n",
       "      <td>645.99</td>\n",
       "      <td>1070.29</td>\n",
       "      <td>756.30</td>\n",
       "      <td>342.91</td>\n",
       "      <td>318.32</td>\n",
       "      <td>966.50</td>\n",
       "      <td>522.04</td>\n",
       "      <td>121.35</td>\n",
       "    </tr>\n",
       "    <tr>\n",
       "      <th>1</th>\n",
       "      <td>All Species</td>\n",
       "      <td>..Cordillera Administrative Region (CAR)</td>\n",
       "      <td>703.32</td>\n",
       "      <td>657.13</td>\n",
       "      <td>602.62</td>\n",
       "      <td>796.91</td>\n",
       "      <td>841.41</td>\n",
       "      <td>845.93</td>\n",
       "      <td>692.55</td>\n",
       "      <td>1058.62</td>\n",
       "      <td>...</td>\n",
       "      <td>835.39</td>\n",
       "      <td>813.45</td>\n",
       "      <td>728.97</td>\n",
       "      <td>947.45</td>\n",
       "      <td>603.71</td>\n",
       "      <td>661.67</td>\n",
       "      <td>843.57</td>\n",
       "      <td>672.18</td>\n",
       "      <td>803.34</td>\n",
       "      <td>895.92</td>\n",
       "    </tr>\n",
       "    <tr>\n",
       "      <th>2</th>\n",
       "      <td>All Species</td>\n",
       "      <td>..Region I (Ilocos Region)</td>\n",
       "      <td>27212.01</td>\n",
       "      <td>28033.82</td>\n",
       "      <td>20562.67</td>\n",
       "      <td>70587.18</td>\n",
       "      <td>27449.49</td>\n",
       "      <td>33321.23</td>\n",
       "      <td>25196.25</td>\n",
       "      <td>70151.75</td>\n",
       "      <td>...</td>\n",
       "      <td>30958.20</td>\n",
       "      <td>71668.12</td>\n",
       "      <td>25874.87</td>\n",
       "      <td>39569.70</td>\n",
       "      <td>28319.94</td>\n",
       "      <td>70581.84</td>\n",
       "      <td>23819.94</td>\n",
       "      <td>38305.78</td>\n",
       "      <td>28513.12</td>\n",
       "      <td>69213.66</td>\n",
       "    </tr>\n",
       "    <tr>\n",
       "      <th>3</th>\n",
       "      <td>All Species</td>\n",
       "      <td>..Region II (Cagayan Valley)</td>\n",
       "      <td>2073.65</td>\n",
       "      <td>4977.96</td>\n",
       "      <td>3331.42</td>\n",
       "      <td>2938.08</td>\n",
       "      <td>2088.81</td>\n",
       "      <td>5365.73</td>\n",
       "      <td>3443.46</td>\n",
       "      <td>3135.44</td>\n",
       "      <td>...</td>\n",
       "      <td>3981.49</td>\n",
       "      <td>3045.96</td>\n",
       "      <td>2191.20</td>\n",
       "      <td>6415.65</td>\n",
       "      <td>4209.86</td>\n",
       "      <td>3137.27</td>\n",
       "      <td>2610.20</td>\n",
       "      <td>5047.21</td>\n",
       "      <td>4567.90</td>\n",
       "      <td>2631.41</td>\n",
       "    </tr>\n",
       "    <tr>\n",
       "      <th>4</th>\n",
       "      <td>All Species</td>\n",
       "      <td>..Region III (Central Luzon)</td>\n",
       "      <td>74439.96</td>\n",
       "      <td>122128.99</td>\n",
       "      <td>29542.09</td>\n",
       "      <td>62940.50</td>\n",
       "      <td>79350.56</td>\n",
       "      <td>118902.20</td>\n",
       "      <td>30325.21</td>\n",
       "      <td>70490.25</td>\n",
       "      <td>...</td>\n",
       "      <td>33066.28</td>\n",
       "      <td>71157.22</td>\n",
       "      <td>94444.91</td>\n",
       "      <td>86528.76</td>\n",
       "      <td>46514.69</td>\n",
       "      <td>72161.02</td>\n",
       "      <td>104030.72</td>\n",
       "      <td>82102.63</td>\n",
       "      <td>39751.11</td>\n",
       "      <td>74445.00</td>\n",
       "    </tr>\n",
       "  </tbody>\n",
       "</table>\n",
       "<p>5 rows × 22 columns</p>\n",
       "</div>"
      ],
      "text/plain": [
       "       Species                               Geolocation 2020 Quarter 1  \\\n",
       "0  All Species           ..National Capital Region (NCR)         250.84   \n",
       "1  All Species  ..Cordillera Administrative Region (CAR)         703.32   \n",
       "2  All Species                ..Region I (Ilocos Region)       27212.01   \n",
       "3  All Species              ..Region II (Cagayan Valley)        2073.65   \n",
       "4  All Species              ..Region III (Central Luzon)       74439.96   \n",
       "\n",
       "  2020 Quarter 2 2020 Quarter 3 2020 Quarter 4 2021 Quarter 1 2021 Quarter 2  \\\n",
       "0         173.13         704.16           9.79         120.30         202.76   \n",
       "1         657.13         602.62         796.91         841.41         845.93   \n",
       "2       28033.82       20562.67       70587.18       27449.49       33321.23   \n",
       "3        4977.96        3331.42        2938.08        2088.81        5365.73   \n",
       "4      122128.99       29542.09       62940.50       79350.56      118902.20   \n",
       "\n",
       "  2021 Quarter 3 2021 Quarter 4  ... 2022 Quarter 3 2022 Quarter 4  \\\n",
       "0         407.66          53.25  ...         417.54         441.13   \n",
       "1         692.55        1058.62  ...         835.39         813.45   \n",
       "2       25196.25       70151.75  ...       30958.20       71668.12   \n",
       "3        3443.46        3135.44  ...        3981.49        3045.96   \n",
       "4       30325.21       70490.25  ...       33066.28       71157.22   \n",
       "\n",
       "  2023 Quarter 1 2023 Quarter 2 2023 Quarter 3 2023 Quarter 4 2024 Quarter 1  \\\n",
       "0         645.99        1070.29         756.30         342.91         318.32   \n",
       "1         728.97         947.45         603.71         661.67         843.57   \n",
       "2       25874.87       39569.70       28319.94       70581.84       23819.94   \n",
       "3        2191.20        6415.65        4209.86        3137.27        2610.20   \n",
       "4       94444.91       86528.76       46514.69       72161.02      104030.72   \n",
       "\n",
       "  2024 Quarter 2 2024 Quarter 3 2024 Quarter 4  \n",
       "0         966.50         522.04         121.35  \n",
       "1         672.18         803.34         895.92  \n",
       "2       38305.78       28513.12       69213.66  \n",
       "3        5047.21        4567.90        2631.41  \n",
       "4       82102.63       39751.11       74445.00  \n",
       "\n",
       "[5 rows x 22 columns]"
      ]
     },
     "execution_count": 42,
     "metadata": {},
     "output_type": "execute_result"
    }
   ],
   "source": [
    "volume_df.head()"
   ]
  },
  {
   "cell_type": "code",
   "execution_count": 43,
   "metadata": {},
   "outputs": [
    {
     "data": {
      "text/plain": [
       "(340, 22)"
      ]
     },
     "execution_count": 43,
     "metadata": {},
     "output_type": "execute_result"
    }
   ],
   "source": [
    "volume_df.shape"
   ]
  },
  {
   "cell_type": "code",
   "execution_count": 44,
   "metadata": {},
   "outputs": [
    {
     "name": "stdout",
     "output_type": "stream",
     "text": [
      "<class 'pandas.core.frame.DataFrame'>\n",
      "RangeIndex: 340 entries, 0 to 339\n",
      "Data columns (total 22 columns):\n",
      " #   Column          Non-Null Count  Dtype \n",
      "---  ------          --------------  ----- \n",
      " 0   Species         340 non-null    object\n",
      " 1   Geolocation     340 non-null    object\n",
      " 2   2020 Quarter 1  340 non-null    object\n",
      " 3   2020 Quarter 2  340 non-null    object\n",
      " 4   2020 Quarter 3  340 non-null    object\n",
      " 5   2020 Quarter 4  340 non-null    object\n",
      " 6   2021 Quarter 1  340 non-null    object\n",
      " 7   2021 Quarter 2  340 non-null    object\n",
      " 8   2021 Quarter 3  340 non-null    object\n",
      " 9   2021 Quarter 4  340 non-null    object\n",
      " 10  2022 Quarter 1  340 non-null    object\n",
      " 11  2022 Quarter 2  340 non-null    object\n",
      " 12  2022 Quarter 3  340 non-null    object\n",
      " 13  2022 Quarter 4  340 non-null    object\n",
      " 14  2023 Quarter 1  340 non-null    object\n",
      " 15  2023 Quarter 2  340 non-null    object\n",
      " 16  2023 Quarter 3  340 non-null    object\n",
      " 17  2023 Quarter 4  340 non-null    object\n",
      " 18  2024 Quarter 1  340 non-null    object\n",
      " 19  2024 Quarter 2  340 non-null    object\n",
      " 20  2024 Quarter 3  340 non-null    object\n",
      " 21  2024 Quarter 4  340 non-null    object\n",
      "dtypes: object(22)\n",
      "memory usage: 58.6+ KB\n"
     ]
    }
   ],
   "source": [
    "volume_df.info()"
   ]
  },
  {
   "cell_type": "code",
   "execution_count": 45,
   "metadata": {},
   "outputs": [
    {
     "data": {
      "text/html": [
       "<div>\n",
       "<style scoped>\n",
       "    .dataframe tbody tr th:only-of-type {\n",
       "        vertical-align: middle;\n",
       "    }\n",
       "\n",
       "    .dataframe tbody tr th {\n",
       "        vertical-align: top;\n",
       "    }\n",
       "\n",
       "    .dataframe thead th {\n",
       "        text-align: right;\n",
       "    }\n",
       "</style>\n",
       "<table border=\"1\" class=\"dataframe\">\n",
       "  <thead>\n",
       "    <tr style=\"text-align: right;\">\n",
       "      <th></th>\n",
       "      <th>Species</th>\n",
       "      <th>Geolocation</th>\n",
       "      <th>2020 Quarter 1</th>\n",
       "      <th>2020 Quarter 2</th>\n",
       "      <th>2020 Quarter 3</th>\n",
       "      <th>2020 Quarter 4</th>\n",
       "      <th>2021 Quarter 1</th>\n",
       "      <th>2021 Quarter 2</th>\n",
       "      <th>2021 Quarter 3</th>\n",
       "      <th>2021 Quarter 4</th>\n",
       "      <th>...</th>\n",
       "      <th>2022 Quarter 3</th>\n",
       "      <th>2022 Quarter 4</th>\n",
       "      <th>2023 Quarter 1</th>\n",
       "      <th>2023 Quarter 2</th>\n",
       "      <th>2023 Quarter 3</th>\n",
       "      <th>2023 Quarter 4</th>\n",
       "      <th>2024 Quarter 1</th>\n",
       "      <th>2024 Quarter 2</th>\n",
       "      <th>2024 Quarter 3</th>\n",
       "      <th>2024 Quarter 4</th>\n",
       "    </tr>\n",
       "  </thead>\n",
       "  <tbody>\n",
       "    <tr>\n",
       "      <th>count</th>\n",
       "      <td>340</td>\n",
       "      <td>340</td>\n",
       "      <td>340</td>\n",
       "      <td>340</td>\n",
       "      <td>340</td>\n",
       "      <td>340</td>\n",
       "      <td>340</td>\n",
       "      <td>340</td>\n",
       "      <td>340</td>\n",
       "      <td>340</td>\n",
       "      <td>...</td>\n",
       "      <td>340</td>\n",
       "      <td>340</td>\n",
       "      <td>340</td>\n",
       "      <td>340</td>\n",
       "      <td>340</td>\n",
       "      <td>340</td>\n",
       "      <td>340</td>\n",
       "      <td>340</td>\n",
       "      <td>340</td>\n",
       "      <td>340</td>\n",
       "    </tr>\n",
       "    <tr>\n",
       "      <th>unique</th>\n",
       "      <td>20</td>\n",
       "      <td>17</td>\n",
       "      <td>196</td>\n",
       "      <td>200</td>\n",
       "      <td>205</td>\n",
       "      <td>205</td>\n",
       "      <td>195</td>\n",
       "      <td>202</td>\n",
       "      <td>204</td>\n",
       "      <td>207</td>\n",
       "      <td>...</td>\n",
       "      <td>224</td>\n",
       "      <td>224</td>\n",
       "      <td>225</td>\n",
       "      <td>223</td>\n",
       "      <td>220</td>\n",
       "      <td>229</td>\n",
       "      <td>221</td>\n",
       "      <td>223</td>\n",
       "      <td>223</td>\n",
       "      <td>226</td>\n",
       "    </tr>\n",
       "    <tr>\n",
       "      <th>top</th>\n",
       "      <td>All Species</td>\n",
       "      <td>..National Capital Region (NCR)</td>\n",
       "      <td>..</td>\n",
       "      <td>..</td>\n",
       "      <td>..</td>\n",
       "      <td>..</td>\n",
       "      <td>..</td>\n",
       "      <td>..</td>\n",
       "      <td>..</td>\n",
       "      <td>..</td>\n",
       "      <td>...</td>\n",
       "      <td>..</td>\n",
       "      <td>..</td>\n",
       "      <td>..</td>\n",
       "      <td>..</td>\n",
       "      <td>..</td>\n",
       "      <td>..</td>\n",
       "      <td>..</td>\n",
       "      <td>..</td>\n",
       "      <td>..</td>\n",
       "      <td>..</td>\n",
       "    </tr>\n",
       "    <tr>\n",
       "      <th>freq</th>\n",
       "      <td>17</td>\n",
       "      <td>20</td>\n",
       "      <td>99</td>\n",
       "      <td>96</td>\n",
       "      <td>97</td>\n",
       "      <td>94</td>\n",
       "      <td>100</td>\n",
       "      <td>98</td>\n",
       "      <td>102</td>\n",
       "      <td>91</td>\n",
       "      <td>...</td>\n",
       "      <td>92</td>\n",
       "      <td>93</td>\n",
       "      <td>86</td>\n",
       "      <td>89</td>\n",
       "      <td>101</td>\n",
       "      <td>101</td>\n",
       "      <td>102</td>\n",
       "      <td>89</td>\n",
       "      <td>100</td>\n",
       "      <td>91</td>\n",
       "    </tr>\n",
       "  </tbody>\n",
       "</table>\n",
       "<p>4 rows × 22 columns</p>\n",
       "</div>"
      ],
      "text/plain": [
       "            Species                      Geolocation 2020 Quarter 1  \\\n",
       "count           340                              340            340   \n",
       "unique           20                               17            196   \n",
       "top     All Species  ..National Capital Region (NCR)             ..   \n",
       "freq             17                               20             99   \n",
       "\n",
       "       2020 Quarter 2 2020 Quarter 3 2020 Quarter 4 2021 Quarter 1  \\\n",
       "count             340            340            340            340   \n",
       "unique            200            205            205            195   \n",
       "top                ..             ..             ..             ..   \n",
       "freq               96             97             94            100   \n",
       "\n",
       "       2021 Quarter 2 2021 Quarter 3 2021 Quarter 4  ... 2022 Quarter 3  \\\n",
       "count             340            340            340  ...            340   \n",
       "unique            202            204            207  ...            224   \n",
       "top                ..             ..             ..  ...             ..   \n",
       "freq               98            102             91  ...             92   \n",
       "\n",
       "       2022 Quarter 4 2023 Quarter 1 2023 Quarter 2 2023 Quarter 3  \\\n",
       "count             340            340            340            340   \n",
       "unique            224            225            223            220   \n",
       "top                ..             ..             ..             ..   \n",
       "freq               93             86             89            101   \n",
       "\n",
       "       2023 Quarter 4 2024 Quarter 1 2024 Quarter 2 2024 Quarter 3  \\\n",
       "count             340            340            340            340   \n",
       "unique            229            221            223            223   \n",
       "top                ..             ..             ..             ..   \n",
       "freq              101            102             89            100   \n",
       "\n",
       "       2024 Quarter 4  \n",
       "count             340  \n",
       "unique            226  \n",
       "top                ..  \n",
       "freq               91  \n",
       "\n",
       "[4 rows x 22 columns]"
      ]
     },
     "execution_count": 45,
     "metadata": {},
     "output_type": "execute_result"
    }
   ],
   "source": [
    "volume_df.describe()"
   ]
  },
  {
   "cell_type": "markdown",
   "metadata": {},
   "source": [
    "Similar to the `Value` dataset, we can state that the `Volume` dataset also has the same set of problems."
   ]
  },
  {
   "cell_type": "code",
   "execution_count": 46,
   "metadata": {},
   "outputs": [
    {
     "name": "stdout",
     "output_type": "stream",
     "text": [
      "['All Species' '..Milkfish' '..Tilapia' '..Tiger Prawn' '..Mudcrab'\n",
      " '..Endeavor Prawn' '..White Shrimp' '..Grouper' '..Siganid'\n",
      " '..P. Vannamei' '..Spiny Lobster' '..Carp' '..Catfish' '..Gourami'\n",
      " '..Mudfish' '..Freshwater Prawn' '..Others' '..Oyster' '..Mussel'\n",
      " '..Seaweed']\n",
      "['..National Capital Region (NCR)'\n",
      " '..Cordillera Administrative Region (CAR)' '..Region I (Ilocos Region)'\n",
      " '..Region II (Cagayan Valley)' '..Region III (Central Luzon)'\n",
      " '..Region IV-A (CALABARZON)' '..MIMAROPA Region'\n",
      " '..Region V (Bicol Region)' '..Region VI (Western Visayas)'\n",
      " '..Region VII (Central Visayas)' '..Region VIII (Eastern Visayas)'\n",
      " '..Region IX (Zamboanga Peninsula)' '..Region X (Nothern Mindanao)'\n",
      " '..Region XI (Davao Region)' '..Region XII (SOCCSKSARGEN)'\n",
      " '..Region XIII (Caraga)'\n",
      " '..Bangsamoro Autonomous Region in Muslim Mindanao (BARMM)']\n"
     ]
    }
   ],
   "source": [
    "print(volume_df['Species'].unique())\n",
    "\n",
    "print(volume_df['Geolocation'].unique())"
   ]
  },
  {
   "cell_type": "code",
   "execution_count": 47,
   "metadata": {},
   "outputs": [
    {
     "name": "stdout",
     "output_type": "stream",
     "text": [
      "2020 Quarter 1: 99 / 340 = 29.117647058823533%\n",
      "2020 Quarter 2: 96 / 340 = 28.235294117647058%\n",
      "2020 Quarter 3: 97 / 340 = 28.52941176470588%\n",
      "2020 Quarter 4: 94 / 340 = 27.647058823529413%\n",
      "2021 Quarter 1: 100 / 340 = 29.411764705882355%\n",
      "2021 Quarter 2: 98 / 340 = 28.823529411764703%\n",
      "2021 Quarter 3: 102 / 340 = 30.0%\n",
      "2021 Quarter 4: 91 / 340 = 26.764705882352942%\n",
      "2022 Quarter 1: 90 / 340 = 26.47058823529412%\n",
      "2022 Quarter 2: 98 / 340 = 28.823529411764703%\n",
      "2022 Quarter 3: 92 / 340 = 27.058823529411764%\n",
      "2022 Quarter 4: 93 / 340 = 27.35294117647059%\n",
      "2023 Quarter 1: 86 / 340 = 25.294117647058822%\n",
      "2023 Quarter 2: 89 / 340 = 26.176470588235297%\n",
      "2023 Quarter 3: 101 / 340 = 29.705882352941178%\n",
      "2023 Quarter 4: 101 / 340 = 29.705882352941178%\n",
      "2024 Quarter 1: 102 / 340 = 30.0%\n",
      "2024 Quarter 2: 89 / 340 = 26.176470588235297%\n",
      "2024 Quarter 3: 100 / 340 = 29.411764705882355%\n",
      "2024 Quarter 4: 91 / 340 = 26.764705882352942%\n"
     ]
    }
   ],
   "source": [
    "year_quarter_cols = volume_df.columns[2:]\n",
    "\n",
    "for col in year_quarter_cols:\n",
    "    filtered_df = volume_df[volume_df[col] == '..']\n",
    "    print(f'{col}: {filtered_df.shape[0]} / {volume_df.shape[0]} = {(filtered_df.shape[0] / volume_df.shape[0]) * 100}%')"
   ]
  },
  {
   "cell_type": "markdown",
   "metadata": {},
   "source": [
    "Since there are no columns that has 50% or more `NULL` values, we proceed with KNN imputation."
   ]
  },
  {
   "cell_type": "code",
   "execution_count": 48,
   "metadata": {},
   "outputs": [],
   "source": [
    "volume_df = volume_df.replace({'..': np.nan})"
   ]
  },
  {
   "cell_type": "code",
   "execution_count": 49,
   "metadata": {},
   "outputs": [],
   "source": [
    "impute_df = volume_df.copy()\n",
    "\n",
    "labeled_species = LabelEncoder()\n",
    "labeled_geo = LabelEncoder()\n",
    "\n",
    "impute_df['Species_encoded'] = labeled_species.fit_transform(impute_df['Species'])\n",
    "impute_df['Geolocation_encoded'] = labeled_geo.fit_transform(impute_df['Geolocation'])\n",
    "\n",
    "knn_features = pd.concat([\n",
    "    impute_df[['Species_encoded', 'Geolocation_encoded']]\n",
    "], axis=1)\n",
    "\n",
    "for col in year_quarter_cols:\n",
    "    knn_imputer = KNNImputer(n_neighbors=3)\n",
    "    imputed_data = pd.DataFrame(\n",
    "        knn_imputer.fit_transform(pd.concat([knn_features, impute_df[[col]]], axis=1)),\n",
    "        columns=list(knn_features.columns) + [col]\n",
    "    )\n",
    "\n",
    "    volume_df[col] = imputed_data[col]"
   ]
  },
  {
   "cell_type": "code",
   "execution_count": 50,
   "metadata": {},
   "outputs": [
    {
     "data": {
      "text/plain": [
       "array(['All Species', '..Milkfish', '..Tilapia', '..Tiger Prawn',\n",
       "       '..Mudcrab', '..Endeavor Prawn', '..White Shrimp', '..Grouper',\n",
       "       '..Siganid', '..P. Vannamei', '..Spiny Lobster', '..Carp',\n",
       "       '..Catfish', '..Gourami', '..Mudfish', '..Freshwater Prawn',\n",
       "       '..Others', '..Oyster', '..Mussel', '..Seaweed'], dtype=object)"
      ]
     },
     "execution_count": 50,
     "metadata": {},
     "output_type": "execute_result"
    }
   ],
   "source": [
    "volume_df['Species'].unique()"
   ]
  },
  {
   "cell_type": "code",
   "execution_count": 51,
   "metadata": {},
   "outputs": [],
   "source": [
    "volume_df['Species'] = volume_df['Species'].str[2:]"
   ]
  },
  {
   "cell_type": "code",
   "execution_count": 52,
   "metadata": {},
   "outputs": [
    {
     "data": {
      "text/plain": [
       "array(['..National Capital Region (NCR)',\n",
       "       '..Cordillera Administrative Region (CAR)',\n",
       "       '..Region I (Ilocos Region)', '..Region II (Cagayan Valley)',\n",
       "       '..Region III (Central Luzon)', '..Region IV-A (CALABARZON)',\n",
       "       '..MIMAROPA Region', '..Region V (Bicol Region)',\n",
       "       '..Region VI (Western Visayas)', '..Region VII (Central Visayas)',\n",
       "       '..Region VIII (Eastern Visayas)',\n",
       "       '..Region IX (Zamboanga Peninsula)',\n",
       "       '..Region X (Nothern Mindanao)', '..Region XI (Davao Region)',\n",
       "       '..Region XII (SOCCSKSARGEN)', '..Region XIII (Caraga)',\n",
       "       '..Bangsamoro Autonomous Region in Muslim Mindanao (BARMM)'],\n",
       "      dtype=object)"
      ]
     },
     "execution_count": 52,
     "metadata": {},
     "output_type": "execute_result"
    }
   ],
   "source": [
    "volume_df['Geolocation'].unique()"
   ]
  },
  {
   "cell_type": "code",
   "execution_count": 53,
   "metadata": {},
   "outputs": [],
   "source": [
    "volume_df['Geolocation'] = volume_df['Geolocation'].str[2:]"
   ]
  },
  {
   "cell_type": "code",
   "execution_count": 54,
   "metadata": {},
   "outputs": [],
   "source": [
    "volume_df = volume_df.melt(['Species', 'Geolocation'], var_name=\"Year-Quarter\", value_name=\"Value\", ignore_index=True)"
   ]
  },
  {
   "cell_type": "code",
   "execution_count": 55,
   "metadata": {},
   "outputs": [
    {
     "data": {
      "text/html": [
       "<div>\n",
       "<style scoped>\n",
       "    .dataframe tbody tr th:only-of-type {\n",
       "        vertical-align: middle;\n",
       "    }\n",
       "\n",
       "    .dataframe tbody tr th {\n",
       "        vertical-align: top;\n",
       "    }\n",
       "\n",
       "    .dataframe thead th {\n",
       "        text-align: right;\n",
       "    }\n",
       "</style>\n",
       "<table border=\"1\" class=\"dataframe\">\n",
       "  <thead>\n",
       "    <tr style=\"text-align: right;\">\n",
       "      <th></th>\n",
       "      <th>Species</th>\n",
       "      <th>Geolocation</th>\n",
       "      <th>Year-Quarter</th>\n",
       "      <th>Value</th>\n",
       "    </tr>\n",
       "  </thead>\n",
       "  <tbody>\n",
       "    <tr>\n",
       "      <th>0</th>\n",
       "      <td>l Species</td>\n",
       "      <td>National Capital Region (NCR)</td>\n",
       "      <td>2020 Quarter 1</td>\n",
       "      <td>250.84</td>\n",
       "    </tr>\n",
       "    <tr>\n",
       "      <th>1</th>\n",
       "      <td>l Species</td>\n",
       "      <td>Cordillera Administrative Region (CAR)</td>\n",
       "      <td>2020 Quarter 1</td>\n",
       "      <td>703.32</td>\n",
       "    </tr>\n",
       "    <tr>\n",
       "      <th>2</th>\n",
       "      <td>l Species</td>\n",
       "      <td>Region I (Ilocos Region)</td>\n",
       "      <td>2020 Quarter 1</td>\n",
       "      <td>27212.01</td>\n",
       "    </tr>\n",
       "    <tr>\n",
       "      <th>3</th>\n",
       "      <td>l Species</td>\n",
       "      <td>Region II (Cagayan Valley)</td>\n",
       "      <td>2020 Quarter 1</td>\n",
       "      <td>2073.65</td>\n",
       "    </tr>\n",
       "    <tr>\n",
       "      <th>4</th>\n",
       "      <td>l Species</td>\n",
       "      <td>Region III (Central Luzon)</td>\n",
       "      <td>2020 Quarter 1</td>\n",
       "      <td>74439.96</td>\n",
       "    </tr>\n",
       "  </tbody>\n",
       "</table>\n",
       "</div>"
      ],
      "text/plain": [
       "     Species                             Geolocation    Year-Quarter     Value\n",
       "0  l Species           National Capital Region (NCR)  2020 Quarter 1    250.84\n",
       "1  l Species  Cordillera Administrative Region (CAR)  2020 Quarter 1    703.32\n",
       "2  l Species                Region I (Ilocos Region)  2020 Quarter 1  27212.01\n",
       "3  l Species              Region II (Cagayan Valley)  2020 Quarter 1   2073.65\n",
       "4  l Species              Region III (Central Luzon)  2020 Quarter 1  74439.96"
      ]
     },
     "execution_count": 55,
     "metadata": {},
     "output_type": "execute_result"
    }
   ],
   "source": [
    "volume_df.head()"
   ]
  },
  {
   "cell_type": "code",
   "execution_count": 56,
   "metadata": {},
   "outputs": [],
   "source": [
    "volume_df['Year'] = volume_df['Year-Quarter'].str[:4]\n",
    "volume_df['Quarter'] = volume_df['Year-Quarter'].str[4:]\n",
    "volume_df.drop(['Year-Quarter'], axis=1, inplace=True)"
   ]
  },
  {
   "cell_type": "code",
   "execution_count": 57,
   "metadata": {},
   "outputs": [
    {
     "data": {
      "text/html": [
       "<div>\n",
       "<style scoped>\n",
       "    .dataframe tbody tr th:only-of-type {\n",
       "        vertical-align: middle;\n",
       "    }\n",
       "\n",
       "    .dataframe tbody tr th {\n",
       "        vertical-align: top;\n",
       "    }\n",
       "\n",
       "    .dataframe thead th {\n",
       "        text-align: right;\n",
       "    }\n",
       "</style>\n",
       "<table border=\"1\" class=\"dataframe\">\n",
       "  <thead>\n",
       "    <tr style=\"text-align: right;\">\n",
       "      <th></th>\n",
       "      <th>Species</th>\n",
       "      <th>Geolocation</th>\n",
       "      <th>Value</th>\n",
       "      <th>Year</th>\n",
       "      <th>Quarter</th>\n",
       "    </tr>\n",
       "  </thead>\n",
       "  <tbody>\n",
       "    <tr>\n",
       "      <th>0</th>\n",
       "      <td>l Species</td>\n",
       "      <td>National Capital Region (NCR)</td>\n",
       "      <td>250.84</td>\n",
       "      <td>2020</td>\n",
       "      <td>Quarter 1</td>\n",
       "    </tr>\n",
       "    <tr>\n",
       "      <th>1</th>\n",
       "      <td>l Species</td>\n",
       "      <td>Cordillera Administrative Region (CAR)</td>\n",
       "      <td>703.32</td>\n",
       "      <td>2020</td>\n",
       "      <td>Quarter 1</td>\n",
       "    </tr>\n",
       "    <tr>\n",
       "      <th>2</th>\n",
       "      <td>l Species</td>\n",
       "      <td>Region I (Ilocos Region)</td>\n",
       "      <td>27212.01</td>\n",
       "      <td>2020</td>\n",
       "      <td>Quarter 1</td>\n",
       "    </tr>\n",
       "    <tr>\n",
       "      <th>3</th>\n",
       "      <td>l Species</td>\n",
       "      <td>Region II (Cagayan Valley)</td>\n",
       "      <td>2073.65</td>\n",
       "      <td>2020</td>\n",
       "      <td>Quarter 1</td>\n",
       "    </tr>\n",
       "    <tr>\n",
       "      <th>4</th>\n",
       "      <td>l Species</td>\n",
       "      <td>Region III (Central Luzon)</td>\n",
       "      <td>74439.96</td>\n",
       "      <td>2020</td>\n",
       "      <td>Quarter 1</td>\n",
       "    </tr>\n",
       "  </tbody>\n",
       "</table>\n",
       "</div>"
      ],
      "text/plain": [
       "     Species                             Geolocation     Value  Year  \\\n",
       "0  l Species           National Capital Region (NCR)    250.84  2020   \n",
       "1  l Species  Cordillera Administrative Region (CAR)    703.32  2020   \n",
       "2  l Species                Region I (Ilocos Region)  27212.01  2020   \n",
       "3  l Species              Region II (Cagayan Valley)   2073.65  2020   \n",
       "4  l Species              Region III (Central Luzon)  74439.96  2020   \n",
       "\n",
       "      Quarter  \n",
       "0   Quarter 1  \n",
       "1   Quarter 1  \n",
       "2   Quarter 1  \n",
       "3   Quarter 1  \n",
       "4   Quarter 1  "
      ]
     },
     "execution_count": 57,
     "metadata": {},
     "output_type": "execute_result"
    }
   ],
   "source": [
    "volume_df.head()"
   ]
  },
  {
   "cell_type": "markdown",
   "metadata": {},
   "source": [
    "## Combine both dataset"
   ]
  },
  {
   "cell_type": "code",
   "execution_count": 59,
   "metadata": {},
   "outputs": [],
   "source": [
    "combined_df = pd.merge(value_df, volume_df, how='inner', on=['Species', 'Geolocation', 'Year', 'Quarter'])"
   ]
  },
  {
   "cell_type": "code",
   "execution_count": 60,
   "metadata": {},
   "outputs": [
    {
     "data": {
      "text/html": [
       "<div>\n",
       "<style scoped>\n",
       "    .dataframe tbody tr th:only-of-type {\n",
       "        vertical-align: middle;\n",
       "    }\n",
       "\n",
       "    .dataframe tbody tr th {\n",
       "        vertical-align: top;\n",
       "    }\n",
       "\n",
       "    .dataframe thead th {\n",
       "        text-align: right;\n",
       "    }\n",
       "</style>\n",
       "<table border=\"1\" class=\"dataframe\">\n",
       "  <thead>\n",
       "    <tr style=\"text-align: right;\">\n",
       "      <th></th>\n",
       "      <th>Species</th>\n",
       "      <th>Geolocation</th>\n",
       "      <th>Value_x</th>\n",
       "      <th>Year</th>\n",
       "      <th>Quarter</th>\n",
       "      <th>Value_y</th>\n",
       "    </tr>\n",
       "  </thead>\n",
       "  <tbody>\n",
       "    <tr>\n",
       "      <th>0</th>\n",
       "      <td>Milkfish</td>\n",
       "      <td>National Capital Region (NCR)</td>\n",
       "      <td>2.853500e+03</td>\n",
       "      <td>2020</td>\n",
       "      <td>Quarter 1</td>\n",
       "      <td>36.370000</td>\n",
       "    </tr>\n",
       "    <tr>\n",
       "      <th>1</th>\n",
       "      <td>Milkfish</td>\n",
       "      <td>Cordillera Administrative Region (CAR)</td>\n",
       "      <td>3.503092e+04</td>\n",
       "      <td>2020</td>\n",
       "      <td>Quarter 1</td>\n",
       "      <td>351.713333</td>\n",
       "    </tr>\n",
       "    <tr>\n",
       "      <th>2</th>\n",
       "      <td>Milkfish</td>\n",
       "      <td>Region I (Ilocos Region)</td>\n",
       "      <td>2.721046e+06</td>\n",
       "      <td>2020</td>\n",
       "      <td>Quarter 1</td>\n",
       "      <td>24495.360000</td>\n",
       "    </tr>\n",
       "    <tr>\n",
       "      <th>3</th>\n",
       "      <td>Milkfish</td>\n",
       "      <td>Region II (Cagayan Valley)</td>\n",
       "      <td>1.623570e+03</td>\n",
       "      <td>2020</td>\n",
       "      <td>Quarter 1</td>\n",
       "      <td>12.950000</td>\n",
       "    </tr>\n",
       "    <tr>\n",
       "      <th>4</th>\n",
       "      <td>Milkfish</td>\n",
       "      <td>Region III (Central Luzon)</td>\n",
       "      <td>1.159739e+06</td>\n",
       "      <td>2020</td>\n",
       "      <td>Quarter 1</td>\n",
       "      <td>10972.480000</td>\n",
       "    </tr>\n",
       "  </tbody>\n",
       "</table>\n",
       "</div>"
      ],
      "text/plain": [
       "    Species                             Geolocation       Value_x  Year  \\\n",
       "0  Milkfish           National Capital Region (NCR)  2.853500e+03  2020   \n",
       "1  Milkfish  Cordillera Administrative Region (CAR)  3.503092e+04  2020   \n",
       "2  Milkfish                Region I (Ilocos Region)  2.721046e+06  2020   \n",
       "3  Milkfish              Region II (Cagayan Valley)  1.623570e+03  2020   \n",
       "4  Milkfish              Region III (Central Luzon)  1.159739e+06  2020   \n",
       "\n",
       "      Quarter       Value_y  \n",
       "0   Quarter 1     36.370000  \n",
       "1   Quarter 1    351.713333  \n",
       "2   Quarter 1  24495.360000  \n",
       "3   Quarter 1     12.950000  \n",
       "4   Quarter 1  10972.480000  "
      ]
     },
     "execution_count": 60,
     "metadata": {},
     "output_type": "execute_result"
    }
   ],
   "source": [
    "\n",
    "combined_df.head()"
   ]
  },
  {
   "cell_type": "code",
   "execution_count": 61,
   "metadata": {},
   "outputs": [
    {
     "data": {
      "text/plain": [
       "Index(['Species', 'Geolocation', 'Value_x', 'Year', 'Quarter', 'Value_y'], dtype='object')"
      ]
     },
     "execution_count": 61,
     "metadata": {},
     "output_type": "execute_result"
    }
   ],
   "source": [
    "combined_df.columns"
   ]
  },
  {
   "cell_type": "code",
   "execution_count": 62,
   "metadata": {},
   "outputs": [],
   "source": [
    "combined_df.rename({'Value_x': 'Value', 'Value_y': 'Volume'}, axis=1, inplace=True)"
   ]
  },
  {
   "cell_type": "markdown",
   "metadata": {},
   "source": [
    "Save combined dataset here."
   ]
  },
  {
   "cell_type": "code",
   "execution_count": 63,
   "metadata": {},
   "outputs": [],
   "source": [
    "combined_df.to_csv('./Dataset/combined_value_and_volume.csv')"
   ]
  },
  {
   "cell_type": "code",
   "execution_count": null,
   "metadata": {},
   "outputs": [],
   "source": []
  }
 ],
 "metadata": {
  "kernelspec": {
   "display_name": "Python 3",
   "language": "python",
   "name": "python3"
  },
  "language_info": {
   "codemirror_mode": {
    "name": "ipython",
    "version": 3
   },
   "file_extension": ".py",
   "mimetype": "text/x-python",
   "name": "python",
   "nbconvert_exporter": "python",
   "pygments_lexer": "ipython3",
   "version": "3.11.0"
  }
 },
 "nbformat": 4,
 "nbformat_minor": 2
}
